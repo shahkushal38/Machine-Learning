{
 "cells": [
  {
   "cell_type": "markdown",
   "id": "443ccfce-dea8-4485-ad4d-cb3736c91e92",
   "metadata": {},
   "source": [
    "### Pandas"
   ]
  },
  {
   "cell_type": "code",
   "execution_count": 1,
   "id": "f42e1e23-0e20-42d5-9b22-dabeed78c309",
   "metadata": {},
   "outputs": [
    {
     "name": "stdout",
     "output_type": "stream",
     "text": [
      "Requirement already satisfied: pandas in c:\\users\\pride 45\\appdata\\local\\programs\\python\\python312\\lib\\site-packages (2.2.0)\n",
      "Requirement already satisfied: numpy<2,>=1.26.0 in c:\\users\\pride 45\\appdata\\local\\programs\\python\\python312\\lib\\site-packages (from pandas) (1.26.3)\n",
      "Requirement already satisfied: python-dateutil>=2.8.2 in c:\\users\\pride 45\\appdata\\local\\programs\\python\\python312\\lib\\site-packages (from pandas) (2.8.2)\n",
      "Requirement already satisfied: pytz>=2020.1 in c:\\users\\pride 45\\appdata\\local\\programs\\python\\python312\\lib\\site-packages (from pandas) (2024.1)\n",
      "Requirement already satisfied: tzdata>=2022.7 in c:\\users\\pride 45\\appdata\\local\\programs\\python\\python312\\lib\\site-packages (from pandas) (2023.4)\n",
      "Requirement already satisfied: six>=1.5 in c:\\users\\pride 45\\appdata\\local\\programs\\python\\python312\\lib\\site-packages (from python-dateutil>=2.8.2->pandas) (1.16.0)\n",
      "Note: you may need to restart the kernel to use updated packages.\n"
     ]
    },
    {
     "name": "stderr",
     "output_type": "stream",
     "text": [
      "\n",
      "[notice] A new release of pip is available: 23.2.1 -> 24.0\n",
      "[notice] To update, run: python.exe -m pip install --upgrade pip\n"
     ]
    }
   ],
   "source": [
    "pip install pandas"
   ]
  },
  {
   "cell_type": "code",
   "execution_count": 2,
   "id": "27f054f7-b814-4451-bf36-1415efd203b1",
   "metadata": {},
   "outputs": [
    {
     "name": "stderr",
     "output_type": "stream",
     "text": [
      "C:\\Users\\pride 45\\AppData\\Local\\Temp\\ipykernel_6640\\4080736814.py:1: DeprecationWarning: \n",
      "Pyarrow will become a required dependency of pandas in the next major release of pandas (pandas 3.0),\n",
      "(to allow more performant data types, such as the Arrow string type, and better interoperability with other libraries)\n",
      "but was not found to be installed on your system.\n",
      "If this would cause problems for you,\n",
      "please provide us feedback at https://github.com/pandas-dev/pandas/issues/54466\n",
      "        \n",
      "  import pandas as pd\n"
     ]
    }
   ],
   "source": [
    "import pandas as pd"
   ]
  },
  {
   "cell_type": "code",
   "execution_count": 3,
   "id": "b93d4461-e6f3-41b5-b828-add9caaeb6d8",
   "metadata": {},
   "outputs": [],
   "source": [
    "import numpy as np"
   ]
  },
  {
   "cell_type": "code",
   "execution_count": 6,
   "id": "1b7a139c-b638-4e81-8cea-7443808a560b",
   "metadata": {},
   "outputs": [
    {
     "data": {
      "text/plain": [
       "array([[ 0,  1,  2,  3],\n",
       "       [ 4,  5,  6,  7],\n",
       "       [ 8,  9, 10, 11],\n",
       "       [12, 13, 14, 15],\n",
       "       [16, 17, 18, 19]])"
      ]
     },
     "execution_count": 6,
     "metadata": {},
     "output_type": "execute_result"
    }
   ],
   "source": [
    "np.arange(0,20).reshape(5,4)"
   ]
  },
  {
   "cell_type": "code",
   "execution_count": 4,
   "id": "523b7b64-5b8a-4100-88f8-352ac23c35e8",
   "metadata": {},
   "outputs": [],
   "source": [
    "df = pd.DataFrame(np.arange(0,20).reshape(5,4), index=['Row1','Row2','Row3','Row4','Row5'], columns = ['column1','column2', 'column3','column4'])"
   ]
  },
  {
   "cell_type": "code",
   "execution_count": 8,
   "id": "bb3d0f90-10da-4239-85d7-274c7eeca95a",
   "metadata": {},
   "outputs": [
    {
     "name": "stdout",
     "output_type": "stream",
     "text": [
      "      column1  column2  column3  column4\n",
      "Row1        0        1        2        3\n",
      "Row2        4        5        6        7\n",
      "Row3        8        9       10       11\n",
      "Row4       12       13       14       15\n",
      "Row5       16       17       18       19\n"
     ]
    }
   ],
   "source": [
    "print(df)"
   ]
  },
  {
   "cell_type": "code",
   "execution_count": 9,
   "id": "a2d6a7f1-a014-46df-a90d-e9a7c5d6b40f",
   "metadata": {},
   "outputs": [
    {
     "data": {
      "text/html": [
       "<div>\n",
       "<style scoped>\n",
       "    .dataframe tbody tr th:only-of-type {\n",
       "        vertical-align: middle;\n",
       "    }\n",
       "\n",
       "    .dataframe tbody tr th {\n",
       "        vertical-align: top;\n",
       "    }\n",
       "\n",
       "    .dataframe thead th {\n",
       "        text-align: right;\n",
       "    }\n",
       "</style>\n",
       "<table border=\"1\" class=\"dataframe\">\n",
       "  <thead>\n",
       "    <tr style=\"text-align: right;\">\n",
       "      <th></th>\n",
       "      <th>column1</th>\n",
       "      <th>column2</th>\n",
       "      <th>column3</th>\n",
       "      <th>column4</th>\n",
       "    </tr>\n",
       "  </thead>\n",
       "  <tbody>\n",
       "    <tr>\n",
       "      <th>Row1</th>\n",
       "      <td>0</td>\n",
       "      <td>1</td>\n",
       "      <td>2</td>\n",
       "      <td>3</td>\n",
       "    </tr>\n",
       "    <tr>\n",
       "      <th>Row2</th>\n",
       "      <td>4</td>\n",
       "      <td>5</td>\n",
       "      <td>6</td>\n",
       "      <td>7</td>\n",
       "    </tr>\n",
       "    <tr>\n",
       "      <th>Row3</th>\n",
       "      <td>8</td>\n",
       "      <td>9</td>\n",
       "      <td>10</td>\n",
       "      <td>11</td>\n",
       "    </tr>\n",
       "    <tr>\n",
       "      <th>Row4</th>\n",
       "      <td>12</td>\n",
       "      <td>13</td>\n",
       "      <td>14</td>\n",
       "      <td>15</td>\n",
       "    </tr>\n",
       "    <tr>\n",
       "      <th>Row5</th>\n",
       "      <td>16</td>\n",
       "      <td>17</td>\n",
       "      <td>18</td>\n",
       "      <td>19</td>\n",
       "    </tr>\n",
       "  </tbody>\n",
       "</table>\n",
       "</div>"
      ],
      "text/plain": [
       "      column1  column2  column3  column4\n",
       "Row1        0        1        2        3\n",
       "Row2        4        5        6        7\n",
       "Row3        8        9       10       11\n",
       "Row4       12       13       14       15\n",
       "Row5       16       17       18       19"
      ]
     },
     "execution_count": 9,
     "metadata": {},
     "output_type": "execute_result"
    }
   ],
   "source": [
    "df.head()"
   ]
  },
  {
   "cell_type": "code",
   "execution_count": 10,
   "id": "a0f4e458-b03e-4bc7-9ed5-6cf3e4da064c",
   "metadata": {},
   "outputs": [],
   "source": [
    "df.to_csv('Test2.csv')"
   ]
  },
  {
   "cell_type": "code",
   "execution_count": 11,
   "id": "0f53c921-3617-40d1-a390-80c1edf178c1",
   "metadata": {},
   "outputs": [
    {
     "data": {
      "text/plain": [
       "column1    0\n",
       "column2    1\n",
       "column3    2\n",
       "column4    3\n",
       "Name: Row1, dtype: int32"
      ]
     },
     "execution_count": 11,
     "metadata": {},
     "output_type": "execute_result"
    }
   ],
   "source": [
    "df.loc['Row1']"
   ]
  },
  {
   "cell_type": "code",
   "execution_count": 13,
   "id": "7081fd6b-5432-4a93-b304-f5c51fabefa0",
   "metadata": {},
   "outputs": [
    {
     "data": {
      "text/plain": [
       "Row1     0\n",
       "Row2     4\n",
       "Row3     8\n",
       "Row4    12\n",
       "Row5    16\n",
       "Name: column1, dtype: int32"
      ]
     },
     "execution_count": 13,
     "metadata": {},
     "output_type": "execute_result"
    }
   ],
   "source": [
    "df['column1']"
   ]
  },
  {
   "cell_type": "code",
   "execution_count": 14,
   "id": "d4b82a56-1e9f-4189-b2ac-497a0280fad3",
   "metadata": {},
   "outputs": [
    {
     "name": "stdout",
     "output_type": "stream",
     "text": [
      "<class 'pandas.core.frame.DataFrame'>\n",
      "Index: 5 entries, Row1 to Row5\n",
      "Data columns (total 4 columns):\n",
      " #   Column   Non-Null Count  Dtype\n",
      "---  ------   --------------  -----\n",
      " 0   column1  5 non-null      int32\n",
      " 1   column2  5 non-null      int32\n",
      " 2   column3  5 non-null      int32\n",
      " 3   column4  5 non-null      int32\n",
      "dtypes: int32(4)\n",
      "memory usage: 292.0+ bytes\n"
     ]
    }
   ],
   "source": [
    "df.info()"
   ]
  },
  {
   "cell_type": "code",
   "execution_count": 13,
   "id": "95f99043-f881-4098-86d9-537bf9c80622",
   "metadata": {},
   "outputs": [
    {
     "data": {
      "text/html": [
       "<div>\n",
       "<style scoped>\n",
       "    .dataframe tbody tr th:only-of-type {\n",
       "        vertical-align: middle;\n",
       "    }\n",
       "\n",
       "    .dataframe tbody tr th {\n",
       "        vertical-align: top;\n",
       "    }\n",
       "\n",
       "    .dataframe thead th {\n",
       "        text-align: right;\n",
       "    }\n",
       "</style>\n",
       "<table border=\"1\" class=\"dataframe\">\n",
       "  <thead>\n",
       "    <tr style=\"text-align: right;\">\n",
       "      <th></th>\n",
       "      <th>column1</th>\n",
       "      <th>column2</th>\n",
       "      <th>column3</th>\n",
       "      <th>column4</th>\n",
       "    </tr>\n",
       "  </thead>\n",
       "  <tbody>\n",
       "    <tr>\n",
       "      <th>Row1</th>\n",
       "      <td>0</td>\n",
       "      <td>1</td>\n",
       "      <td>2</td>\n",
       "      <td>3</td>\n",
       "    </tr>\n",
       "    <tr>\n",
       "      <th>Row2</th>\n",
       "      <td>4</td>\n",
       "      <td>5</td>\n",
       "      <td>6</td>\n",
       "      <td>7</td>\n",
       "    </tr>\n",
       "  </tbody>\n",
       "</table>\n",
       "</div>"
      ],
      "text/plain": [
       "      column1  column2  column3  column4\n",
       "Row1        0        1        2        3\n",
       "Row2        4        5        6        7"
      ]
     },
     "execution_count": 13,
     "metadata": {},
     "output_type": "execute_result"
    }
   ],
   "source": [
    "minidf = df.loc[['Row1', 'Row2']]\n",
    "minidf.head()"
   ]
  },
  {
   "cell_type": "code",
   "execution_count": null,
   "id": "bd836250-93ab-40ab-b8f6-86e77aee5eb1",
   "metadata": {},
   "outputs": [],
   "source": []
  },
  {
   "cell_type": "code",
   "execution_count": null,
   "id": "ae57b829-e1dc-4801-a280-ad4bef7a137d",
   "metadata": {},
   "outputs": [],
   "source": []
  },
  {
   "cell_type": "code",
   "execution_count": 27,
   "id": "1d56a02e-b640-41c1-933b-6619f2e17ef2",
   "metadata": {},
   "outputs": [
    {
     "data": {
      "text/html": [
       "<div>\n",
       "<style scoped>\n",
       "    .dataframe tbody tr th:only-of-type {\n",
       "        vertical-align: middle;\n",
       "    }\n",
       "\n",
       "    .dataframe tbody tr th {\n",
       "        vertical-align: top;\n",
       "    }\n",
       "\n",
       "    .dataframe thead th {\n",
       "        text-align: right;\n",
       "    }\n",
       "</style>\n",
       "<table border=\"1\" class=\"dataframe\">\n",
       "  <thead>\n",
       "    <tr style=\"text-align: right;\">\n",
       "      <th></th>\n",
       "      <th>column1</th>\n",
       "      <th>column2</th>\n",
       "    </tr>\n",
       "  </thead>\n",
       "  <tbody>\n",
       "    <tr>\n",
       "      <th>Row1</th>\n",
       "      <td>0</td>\n",
       "      <td>1</td>\n",
       "    </tr>\n",
       "    <tr>\n",
       "      <th>Row2</th>\n",
       "      <td>4</td>\n",
       "      <td>5</td>\n",
       "    </tr>\n",
       "  </tbody>\n",
       "</table>\n",
       "</div>"
      ],
      "text/plain": [
       "      column1  column2\n",
       "Row1        0        1\n",
       "Row2        4        5"
      ]
     },
     "execution_count": 27,
     "metadata": {},
     "output_type": "execute_result"
    }
   ],
   "source": [
    "minidf[['column1', 'column2']]"
   ]
  },
  {
   "cell_type": "code",
   "execution_count": 28,
   "id": "a5d9f21d-8c21-4d07-bad3-1499e3dd43f5",
   "metadata": {},
   "outputs": [
    {
     "data": {
      "text/html": [
       "<div>\n",
       "<style scoped>\n",
       "    .dataframe tbody tr th:only-of-type {\n",
       "        vertical-align: middle;\n",
       "    }\n",
       "\n",
       "    .dataframe tbody tr th {\n",
       "        vertical-align: top;\n",
       "    }\n",
       "\n",
       "    .dataframe thead th {\n",
       "        text-align: right;\n",
       "    }\n",
       "</style>\n",
       "<table border=\"1\" class=\"dataframe\">\n",
       "  <thead>\n",
       "    <tr style=\"text-align: right;\">\n",
       "      <th></th>\n",
       "      <th>column2</th>\n",
       "      <th>column3</th>\n",
       "      <th>column4</th>\n",
       "    </tr>\n",
       "  </thead>\n",
       "  <tbody>\n",
       "    <tr>\n",
       "      <th>Row1</th>\n",
       "      <td>1</td>\n",
       "      <td>2</td>\n",
       "      <td>3</td>\n",
       "    </tr>\n",
       "    <tr>\n",
       "      <th>Row2</th>\n",
       "      <td>5</td>\n",
       "      <td>6</td>\n",
       "      <td>7</td>\n",
       "    </tr>\n",
       "    <tr>\n",
       "      <th>Row3</th>\n",
       "      <td>9</td>\n",
       "      <td>10</td>\n",
       "      <td>11</td>\n",
       "    </tr>\n",
       "    <tr>\n",
       "      <th>Row4</th>\n",
       "      <td>13</td>\n",
       "      <td>14</td>\n",
       "      <td>15</td>\n",
       "    </tr>\n",
       "    <tr>\n",
       "      <th>Row5</th>\n",
       "      <td>17</td>\n",
       "      <td>18</td>\n",
       "      <td>19</td>\n",
       "    </tr>\n",
       "  </tbody>\n",
       "</table>\n",
       "</div>"
      ],
      "text/plain": [
       "      column2  column3  column4\n",
       "Row1        1        2        3\n",
       "Row2        5        6        7\n",
       "Row3        9       10       11\n",
       "Row4       13       14       15\n",
       "Row5       17       18       19"
      ]
     },
     "execution_count": 28,
     "metadata": {},
     "output_type": "execute_result"
    }
   ],
   "source": [
    "df.iloc[:,1:4]"
   ]
  },
  {
   "cell_type": "code",
   "execution_count": 30,
   "id": "b24cfb0f-62e6-4935-ba7a-f823829fce67",
   "metadata": {},
   "outputs": [
    {
     "data": {
      "text/plain": [
       "array([[ 1,  2,  3],\n",
       "       [ 5,  6,  7],\n",
       "       [ 9, 10, 11],\n",
       "       [13, 14, 15],\n",
       "       [17, 18, 19]])"
      ]
     },
     "execution_count": 30,
     "metadata": {},
     "output_type": "execute_result"
    }
   ],
   "source": [
    "df.iloc[:,1:4].values"
   ]
  },
  {
   "cell_type": "code",
   "execution_count": 31,
   "id": "237e4887-2436-45bb-a24e-358fa148301a",
   "metadata": {},
   "outputs": [
    {
     "data": {
      "text/plain": [
       "column1    0\n",
       "column2    0\n",
       "column3    0\n",
       "column4    0\n",
       "dtype: int64"
      ]
     },
     "execution_count": 31,
     "metadata": {},
     "output_type": "execute_result"
    }
   ],
   "source": [
    "df.isnull().sum() #checks for null values in a column"
   ]
  },
  {
   "cell_type": "code",
   "execution_count": 16,
   "id": "5a405fcc-d407-4cc6-a4a2-c9d6da07386e",
   "metadata": {},
   "outputs": [],
   "source": [
    "dataFrames = pd.read_csv(\"US_E-commerce_records_2020.csv\", encoding='windows-1252')"
   ]
  },
  {
   "cell_type": "code",
   "execution_count": 17,
   "id": "508fcd4b-0656-47c3-9590-9b19bb58559a",
   "metadata": {},
   "outputs": [
    {
     "data": {
      "text/html": [
       "<div>\n",
       "<style scoped>\n",
       "    .dataframe tbody tr th:only-of-type {\n",
       "        vertical-align: middle;\n",
       "    }\n",
       "\n",
       "    .dataframe tbody tr th {\n",
       "        vertical-align: top;\n",
       "    }\n",
       "\n",
       "    .dataframe thead th {\n",
       "        text-align: right;\n",
       "    }\n",
       "</style>\n",
       "<table border=\"1\" class=\"dataframe\">\n",
       "  <thead>\n",
       "    <tr style=\"text-align: right;\">\n",
       "      <th></th>\n",
       "      <th>Order Date</th>\n",
       "      <th>Row ID</th>\n",
       "      <th>Order ID</th>\n",
       "      <th>Ship Mode</th>\n",
       "      <th>Customer ID</th>\n",
       "      <th>Segment</th>\n",
       "      <th>Country</th>\n",
       "      <th>City</th>\n",
       "      <th>State</th>\n",
       "      <th>Postal Code</th>\n",
       "      <th>Region</th>\n",
       "      <th>Product ID</th>\n",
       "      <th>Category</th>\n",
       "      <th>Sub-Category</th>\n",
       "      <th>Product Name</th>\n",
       "      <th>Sales</th>\n",
       "      <th>Quantity</th>\n",
       "      <th>Discount</th>\n",
       "      <th>Profit</th>\n",
       "    </tr>\n",
       "  </thead>\n",
       "  <tbody>\n",
       "    <tr>\n",
       "      <th>0</th>\n",
       "      <td>01-01-20</td>\n",
       "      <td>849</td>\n",
       "      <td>CA-2017-107503</td>\n",
       "      <td>Standard Class</td>\n",
       "      <td>GA-14725</td>\n",
       "      <td>Consumer</td>\n",
       "      <td>United States</td>\n",
       "      <td>Lorain</td>\n",
       "      <td>Ohio</td>\n",
       "      <td>44052</td>\n",
       "      <td>East</td>\n",
       "      <td>FUR-FU-10003878</td>\n",
       "      <td>Furniture</td>\n",
       "      <td>Furnishings</td>\n",
       "      <td>Linden 10\" Round Wall Clock, Black</td>\n",
       "      <td>48.896</td>\n",
       "      <td>4</td>\n",
       "      <td>0.2</td>\n",
       "      <td>8.5568</td>\n",
       "    </tr>\n",
       "    <tr>\n",
       "      <th>1</th>\n",
       "      <td>01-01-20</td>\n",
       "      <td>4010</td>\n",
       "      <td>CA-2017-144463</td>\n",
       "      <td>Standard Class</td>\n",
       "      <td>SC-20725</td>\n",
       "      <td>Consumer</td>\n",
       "      <td>United States</td>\n",
       "      <td>Los Angeles</td>\n",
       "      <td>California</td>\n",
       "      <td>90036</td>\n",
       "      <td>West</td>\n",
       "      <td>FUR-FU-10001215</td>\n",
       "      <td>Furniture</td>\n",
       "      <td>Furnishings</td>\n",
       "      <td>Howard Miller 11-1/2\" Diameter Brentwood Wall ...</td>\n",
       "      <td>474.430</td>\n",
       "      <td>11</td>\n",
       "      <td>0.0</td>\n",
       "      <td>199.2606</td>\n",
       "    </tr>\n",
       "    <tr>\n",
       "      <th>2</th>\n",
       "      <td>01-01-20</td>\n",
       "      <td>6683</td>\n",
       "      <td>CA-2017-154466</td>\n",
       "      <td>First Class</td>\n",
       "      <td>DP-13390</td>\n",
       "      <td>Home Office</td>\n",
       "      <td>United States</td>\n",
       "      <td>Franklin</td>\n",
       "      <td>Wisconsin</td>\n",
       "      <td>53132</td>\n",
       "      <td>Central</td>\n",
       "      <td>OFF-BI-10002012</td>\n",
       "      <td>Office Supplies</td>\n",
       "      <td>Binders</td>\n",
       "      <td>Wilson Jones Easy Flow II Sheet Lifters</td>\n",
       "      <td>3.600</td>\n",
       "      <td>2</td>\n",
       "      <td>0.0</td>\n",
       "      <td>1.7280</td>\n",
       "    </tr>\n",
       "    <tr>\n",
       "      <th>3</th>\n",
       "      <td>01-01-20</td>\n",
       "      <td>8070</td>\n",
       "      <td>CA-2017-151750</td>\n",
       "      <td>Standard Class</td>\n",
       "      <td>JM-15250</td>\n",
       "      <td>Consumer</td>\n",
       "      <td>United States</td>\n",
       "      <td>Huntsville</td>\n",
       "      <td>Texas</td>\n",
       "      <td>77340</td>\n",
       "      <td>Central</td>\n",
       "      <td>OFF-ST-10002743</td>\n",
       "      <td>Office Supplies</td>\n",
       "      <td>Storage</td>\n",
       "      <td>SAFCO Boltless Steel Shelving</td>\n",
       "      <td>454.560</td>\n",
       "      <td>5</td>\n",
       "      <td>0.2</td>\n",
       "      <td>-107.9580</td>\n",
       "    </tr>\n",
       "    <tr>\n",
       "      <th>4</th>\n",
       "      <td>01-01-20</td>\n",
       "      <td>8071</td>\n",
       "      <td>CA-2017-151750</td>\n",
       "      <td>Standard Class</td>\n",
       "      <td>JM-15250</td>\n",
       "      <td>Consumer</td>\n",
       "      <td>United States</td>\n",
       "      <td>Huntsville</td>\n",
       "      <td>Texas</td>\n",
       "      <td>77340</td>\n",
       "      <td>Central</td>\n",
       "      <td>FUR-FU-10002116</td>\n",
       "      <td>Furniture</td>\n",
       "      <td>Furnishings</td>\n",
       "      <td>Tenex Carpeted, Granite-Look or Clear Contempo...</td>\n",
       "      <td>141.420</td>\n",
       "      <td>5</td>\n",
       "      <td>0.6</td>\n",
       "      <td>-187.3815</td>\n",
       "    </tr>\n",
       "  </tbody>\n",
       "</table>\n",
       "</div>"
      ],
      "text/plain": [
       "  Order Date  Row ID        Order ID       Ship Mode Customer ID      Segment  \\\n",
       "0   01-01-20     849  CA-2017-107503  Standard Class    GA-14725     Consumer   \n",
       "1   01-01-20    4010  CA-2017-144463  Standard Class    SC-20725     Consumer   \n",
       "2   01-01-20    6683  CA-2017-154466     First Class    DP-13390  Home Office   \n",
       "3   01-01-20    8070  CA-2017-151750  Standard Class    JM-15250     Consumer   \n",
       "4   01-01-20    8071  CA-2017-151750  Standard Class    JM-15250     Consumer   \n",
       "\n",
       "         Country         City       State  Postal Code   Region  \\\n",
       "0  United States       Lorain        Ohio        44052     East   \n",
       "1  United States  Los Angeles  California        90036     West   \n",
       "2  United States     Franklin   Wisconsin        53132  Central   \n",
       "3  United States   Huntsville       Texas        77340  Central   \n",
       "4  United States   Huntsville       Texas        77340  Central   \n",
       "\n",
       "        Product ID         Category Sub-Category  \\\n",
       "0  FUR-FU-10003878        Furniture  Furnishings   \n",
       "1  FUR-FU-10001215        Furniture  Furnishings   \n",
       "2  OFF-BI-10002012  Office Supplies      Binders   \n",
       "3  OFF-ST-10002743  Office Supplies      Storage   \n",
       "4  FUR-FU-10002116        Furniture  Furnishings   \n",
       "\n",
       "                                        Product Name    Sales  Quantity  \\\n",
       "0                 Linden 10\" Round Wall Clock, Black   48.896         4   \n",
       "1  Howard Miller 11-1/2\" Diameter Brentwood Wall ...  474.430        11   \n",
       "2            Wilson Jones Easy Flow II Sheet Lifters    3.600         2   \n",
       "3                      SAFCO Boltless Steel Shelving  454.560         5   \n",
       "4  Tenex Carpeted, Granite-Look or Clear Contempo...  141.420         5   \n",
       "\n",
       "   Discount    Profit  \n",
       "0       0.2    8.5568  \n",
       "1       0.0  199.2606  \n",
       "2       0.0    1.7280  \n",
       "3       0.2 -107.9580  \n",
       "4       0.6 -187.3815  "
      ]
     },
     "execution_count": 17,
     "metadata": {},
     "output_type": "execute_result"
    }
   ],
   "source": [
    "dataFrames.head()"
   ]
  },
  {
   "cell_type": "code",
   "execution_count": 21,
   "id": "6f511b1b-d782-40a2-9197-0592971b14fc",
   "metadata": {},
   "outputs": [
    {
     "data": {
      "text/plain": [
       "Order Date      0\n",
       "Row ID          0\n",
       "Order ID        0\n",
       "Ship Mode       0\n",
       "Customer ID     0\n",
       "Segment         0\n",
       "Country         0\n",
       "City            0\n",
       "State           0\n",
       "Postal Code     0\n",
       "Region          0\n",
       "Product ID      0\n",
       "Category        0\n",
       "Sub-Category    0\n",
       "Product Name    0\n",
       "Sales           0\n",
       "Quantity        0\n",
       "Discount        0\n",
       "Profit          0\n",
       "dtype: int64"
      ]
     },
     "execution_count": 21,
     "metadata": {},
     "output_type": "execute_result"
    }
   ],
   "source": [
    "dataFrames.isnull().sum() "
   ]
  },
  {
   "cell_type": "code",
   "execution_count": 22,
   "id": "064b24b1-c666-4fe8-bd01-d975848d7bc3",
   "metadata": {},
   "outputs": [],
   "source": [
    "npValues = dataFrames['Ship Mode'].values"
   ]
  },
  {
   "cell_type": "code",
   "execution_count": 23,
   "id": "1d5ae22e-bfd2-4a3b-ab59-eb4c204ad627",
   "metadata": {
    "scrolled": true
   },
   "outputs": [
    {
     "name": "stdout",
     "output_type": "stream",
     "text": [
      "['Standard Class' 'Standard Class' 'First Class' ... 'Standard Class'\n",
      " 'Standard Class' 'Standard Class']\n"
     ]
    }
   ],
   "source": [
    "print(npValues)"
   ]
  },
  {
   "cell_type": "code",
   "execution_count": 31,
   "id": "63b747f4-423d-4793-aca7-bd2d1b19afc7",
   "metadata": {},
   "outputs": [
    {
     "data": {
      "text/plain": [
       "array(['First Class', 'Same Day', 'Second Class', 'Standard Class'],\n",
       "      dtype=object)"
      ]
     },
     "execution_count": 31,
     "metadata": {},
     "output_type": "execute_result"
    }
   ],
   "source": [
    "np.unique(npValues)"
   ]
  },
  {
   "cell_type": "code",
   "execution_count": 29,
   "id": "de15e336-b968-4a44-82bb-9ab3c4ca9fe8",
   "metadata": {},
   "outputs": [
    {
     "data": {
      "text/plain": [
       "numpy.ndarray"
      ]
     },
     "execution_count": 29,
     "metadata": {},
     "output_type": "execute_result"
    }
   ],
   "source": [
    "type(npValues)"
   ]
  },
  {
   "cell_type": "code",
   "execution_count": 25,
   "id": "87051122-83d8-4632-b7d8-ae5407a61b2d",
   "metadata": {},
   "outputs": [],
   "source": [
    "npCity = dataFrames['City'].values"
   ]
  },
  {
   "cell_type": "code",
   "execution_count": 26,
   "id": "9d721908-3452-488a-a82c-8f5fc5f2d1b6",
   "metadata": {},
   "outputs": [
    {
     "name": "stdout",
     "output_type": "stream",
     "text": [
      "['Lorain' 'Los Angeles' 'Franklin' ... 'Fairfield' 'Fairfield' 'Loveland']\n"
     ]
    }
   ],
   "source": [
    "print(npCity)"
   ]
  },
  {
   "cell_type": "code",
   "execution_count": 33,
   "id": "2702a452-bbc7-4f35-8279-f4e1519292e1",
   "metadata": {},
   "outputs": [],
   "source": [
    "npUniqueCity = np.unique(npCity)"
   ]
  },
  {
   "cell_type": "code",
   "execution_count": 34,
   "id": "b4d76cb4-17a2-470f-9c1c-c485cd9490aa",
   "metadata": {},
   "outputs": [
    {
     "data": {
      "text/plain": [
       "350"
      ]
     },
     "execution_count": 34,
     "metadata": {},
     "output_type": "execute_result"
    }
   ],
   "source": [
    "len(npUniqueCity)"
   ]
  },
  {
   "cell_type": "code",
   "execution_count": 35,
   "id": "46fc38ae-e83c-42c9-8db7-dbf131fc5849",
   "metadata": {},
   "outputs": [
    {
     "name": "stdout",
     "output_type": "stream",
     "text": [
      "['Aberdeen' 'Abilene' 'Akron' 'Albuquerque' 'Alexandria' 'Amarillo'\n",
      " 'Anaheim' 'Apple Valley' 'Arlington' 'Asheville' 'Athens' 'Atlanta'\n",
      " 'Auburn' 'Aurora' 'Austin' 'Bakersfield' 'Baltimore' 'Beaumont' 'Bedford'\n",
      " 'Belleville' 'Bellevue' 'Bellingham' 'Bloomington' 'Boise' 'Bolingbrook'\n",
      " 'Bowling Green' 'Boynton Beach' 'Brentwood' 'Brownsville' 'Bryan'\n",
      " 'Buffalo' 'Burlington' 'Camarillo' 'Cambridge' 'Canton' 'Carlsbad'\n",
      " 'Carrollton' 'Cedar Hill' 'Chandler' 'Chapel Hill' 'Charlotte'\n",
      " 'Charlottesville' 'Chattanooga' 'Chesapeake' 'Chester' 'Chicago' 'Chico'\n",
      " 'Cincinnati' 'Citrus Heights' 'Clarksville' 'Cleveland' 'Clinton'\n",
      " 'Clovis' 'Coachella' 'College Station' 'Columbia' 'Columbus'\n",
      " 'Commerce City' 'Concord' 'Coppell' 'Coral Springs' 'Corpus Christi'\n",
      " 'Costa Mesa' 'Cranston' 'Cuyahoga Falls' 'Dallas' 'Danbury' 'Danville'\n",
      " 'Dearborn' 'Dearborn Heights' 'Decatur' 'Deltona' 'Denver' 'Des Moines'\n",
      " 'Des Plaines' 'Detroit' 'Draper' 'Dublin' 'Durham' 'Eagan' 'East Orange'\n",
      " 'Eau Claire' 'Edinburg' 'Edmonds' 'El Paso' 'Elkhart' 'Elyria'\n",
      " 'Encinitas' 'Escondido' 'Everett' 'Fairfield' 'Fargo' 'Farmington'\n",
      " 'Fayetteville' 'Florence' 'Fort Collins' 'Fort Lauderdale' 'Fort Worth'\n",
      " 'Franklin' 'Freeport' 'Fremont' 'Fresno' 'Frisco' 'Garden City' 'Garland'\n",
      " 'Georgetown' 'Gilbert' 'Gladstone' 'Glendale' 'Grand Island'\n",
      " 'Grand Prairie' 'Grand Rapids' 'Great Falls' 'Greeley' 'Green Bay'\n",
      " 'Greensboro' 'Greenville' 'Greenwood' 'Grove City' 'Gulfport'\n",
      " 'Hagerstown' 'Harlingen' 'Harrisonburg' 'Hattiesburg' 'Helena'\n",
      " 'Hempstead' 'Henderson' 'Hendersonville' 'Hesperia' 'Hialeah' 'Hickory'\n",
      " 'Hillsboro' 'Hollywood' 'Homestead' 'Hoover' 'Houston' 'Huntington Beach'\n",
      " 'Huntsville' 'Independence' 'Indianapolis' 'Inglewood' 'Jackson'\n",
      " 'Jacksonville' 'Johnson City' 'Jonesboro' 'Jupiter' 'Keller' 'Kenosha'\n",
      " 'Kent' 'Kissimmee' 'Knoxville' 'La Mesa' 'La Porte' 'Lafayette'\n",
      " 'Laguna Niguel' 'Lake Charles' 'Lake Forest' 'Lakeland' 'Lakeville'\n",
      " 'Lakewood' 'Lancaster' 'Lansing' 'Las Cruces' 'Las Vegas' 'Laurel'\n",
      " 'Lawrence' 'Lawton' 'League City' 'Lebanon' 'Little Rock' 'Lodi'\n",
      " 'Long Beach' 'Longview' 'Lorain' 'Los Angeles' 'Louisville' 'Loveland'\n",
      " 'Lowell' 'Lubbock' 'Madison' 'Manchester' 'Mansfield' 'Manteca'\n",
      " 'Maple Grove' 'Marion' 'Mcallen' 'Melbourne' 'Memphis' 'Mentor' 'Meriden'\n",
      " 'Meridian' 'Mesa' 'Mesquite' 'Miami' 'Middletown' 'Milford' 'Milwaukee'\n",
      " 'Minneapolis' 'Miramar' 'Mission Viejo' 'Missouri City' 'Modesto'\n",
      " 'Monroe' 'Montgomery' 'Moorhead' 'Morristown' 'Mount Vernon'\n",
      " 'Murfreesboro' 'Murray' 'Muskogee' 'Naperville' 'Nashua' 'Nashville'\n",
      " 'New Bedford' 'New Brunswick' 'New Rochelle' 'New York City' 'Newark'\n",
      " 'Newport News' 'North Charleston' 'North Las Vegas' 'Norwich' 'Oak Park'\n",
      " 'Oakland' 'Oceanside' 'Odessa' 'Oklahoma City' 'Olympia' 'Omaha'\n",
      " 'Ontario' 'Orange' 'Orem' 'Orlando' 'Ormond Beach' 'Overland Park'\n",
      " 'Oxnard' 'Palatine' 'Palm Coast' 'Park Ridge' 'Parker' 'Parma' 'Pasadena'\n",
      " 'Pasco' 'Paterson' 'Pearland' 'Pembroke Pines' 'Peoria' 'Perth Amboy'\n",
      " 'Pharr' 'Philadelphia' 'Phoenix' 'Pico Rivera' 'Pine Bluff' 'Plainfield'\n",
      " 'Plano' 'Pocatello' 'Pomona' 'Pompano Beach' 'Port Orange'\n",
      " 'Port Saint Lucie' 'Portland' 'Providence' 'Provo' 'Quincy' 'Raleigh'\n",
      " 'Rancho Cucamonga' 'Reading' 'Redmond' 'Renton' 'Richmond' 'Riverside'\n",
      " 'Rochester' 'Rochester Hills' 'Rockford' 'Rogers' 'Rome' 'Roseville'\n",
      " 'Roswell' 'Round Rock' 'Sacramento' 'Saginaw' 'Saint Charles'\n",
      " 'Saint Cloud' 'Saint Louis' 'Saint Petersburg' 'Salem' 'Salinas'\n",
      " 'Salt Lake City' 'San Angelo' 'San Antonio' 'San Diego' 'San Francisco'\n",
      " 'San Jose' 'San Mateo' 'Sandy Springs' 'Sanford' 'Santa Ana'\n",
      " 'Santa Barbara' 'Santa Clara' 'Scottsdale' 'Seattle' 'Sioux Falls'\n",
      " 'Skokie' 'Smyrna' 'Southaven' 'Spokane' 'Springdale' 'Springfield'\n",
      " 'Stockton' 'Suffolk' 'Summerville' 'Sunnyvale' 'Tallahassee' 'Tampa'\n",
      " 'Tempe' 'Texarkana' 'Thornton' 'Thousand Oaks' 'Tigard' 'Toledo'\n",
      " 'Torrance' 'Trenton' 'Troy' 'Tucson' 'Tulsa' 'Tuscaloosa' 'Tyler'\n",
      " 'Urbandale' 'Utica' 'Vancouver' 'Vineland' 'Virginia Beach' 'Waco'\n",
      " 'Warwick' 'Washington' 'Waterbury' 'Waterloo' 'Watertown' 'Westfield'\n",
      " 'Westminster' 'Wheeling' 'Whittier' 'Wichita' 'Wilmington' 'Woodland'\n",
      " 'Woodstock' 'Woonsocket' 'Yonkers' 'York' 'Yuma']\n"
     ]
    }
   ],
   "source": [
    "print(npUniqueCity)"
   ]
  },
  {
   "cell_type": "code",
   "execution_count": 29,
   "id": "411decc2-d8aa-42e4-8956-d013cd378685",
   "metadata": {
    "scrolled": true
   },
   "outputs": [
    {
     "data": {
      "text/plain": [
       "City\n",
       "New York City    306\n",
       "Los Angeles      210\n",
       "San Francisco    190\n",
       "Seattle          182\n",
       "Philadelphia     182\n",
       "                ... \n",
       "Boise              1\n",
       "Lebanon            1\n",
       "Hesperia           1\n",
       "Kissimmee          1\n",
       "East Orange        1\n",
       "Name: count, Length: 350, dtype: int64"
      ]
     },
     "execution_count": 29,
     "metadata": {},
     "output_type": "execute_result"
    }
   ],
   "source": [
    "dataFrames['City'].value_counts()"
   ]
  },
  {
   "cell_type": "code",
   "execution_count": 21,
   "id": "ef6ba8d3-dcc1-42b1-8f59-ff6ace7f5e07",
   "metadata": {},
   "outputs": [
    {
     "name": "stdout",
     "output_type": "stream",
     "text": [
      "<class 'pandas.core.frame.DataFrame'>\n",
      "RangeIndex: 3312 entries, 0 to 3311\n",
      "Data columns (total 19 columns):\n",
      " #   Column        Non-Null Count  Dtype  \n",
      "---  ------        --------------  -----  \n",
      " 0   Order Date    3312 non-null   object \n",
      " 1   Row ID        3312 non-null   int64  \n",
      " 2   Order ID      3312 non-null   object \n",
      " 3   Ship Mode     3312 non-null   object \n",
      " 4   Customer ID   3312 non-null   object \n",
      " 5   Segment       3312 non-null   object \n",
      " 6   Country       3312 non-null   object \n",
      " 7   City          3312 non-null   object \n",
      " 8   State         3312 non-null   object \n",
      " 9   Postal Code   3312 non-null   int64  \n",
      " 10  Region        3312 non-null   object \n",
      " 11  Product ID    3312 non-null   object \n",
      " 12  Category      3312 non-null   object \n",
      " 13  Sub-Category  3312 non-null   object \n",
      " 14  Product Name  3312 non-null   object \n",
      " 15  Sales         3312 non-null   float64\n",
      " 16  Quantity      3312 non-null   int64  \n",
      " 17  Discount      3312 non-null   float64\n",
      " 18  Profit        3312 non-null   float64\n",
      "dtypes: float64(3), int64(3), object(13)\n",
      "memory usage: 491.8+ KB\n"
     ]
    }
   ],
   "source": [
    "dataFrames.info()"
   ]
  },
  {
   "cell_type": "code",
   "execution_count": 33,
   "id": "0dde041d-747f-4ed1-b238-656e76ee7c5c",
   "metadata": {},
   "outputs": [
    {
     "data": {
      "text/html": [
       "<div>\n",
       "<style scoped>\n",
       "    .dataframe tbody tr th:only-of-type {\n",
       "        vertical-align: middle;\n",
       "    }\n",
       "\n",
       "    .dataframe tbody tr th {\n",
       "        vertical-align: top;\n",
       "    }\n",
       "\n",
       "    .dataframe thead th {\n",
       "        text-align: right;\n",
       "    }\n",
       "</style>\n",
       "<table border=\"1\" class=\"dataframe\">\n",
       "  <thead>\n",
       "    <tr style=\"text-align: right;\">\n",
       "      <th></th>\n",
       "      <th>Row ID</th>\n",
       "      <th>Postal Code</th>\n",
       "      <th>Sales</th>\n",
       "      <th>Quantity</th>\n",
       "      <th>Discount</th>\n",
       "      <th>Profit</th>\n",
       "    </tr>\n",
       "  </thead>\n",
       "  <tbody>\n",
       "    <tr>\n",
       "      <th>count</th>\n",
       "      <td>3312.000000</td>\n",
       "      <td>3312.000000</td>\n",
       "      <td>3312.000000</td>\n",
       "      <td>3312.000000</td>\n",
       "      <td>3312.000000</td>\n",
       "      <td>3312.000000</td>\n",
       "    </tr>\n",
       "    <tr>\n",
       "      <th>mean</th>\n",
       "      <td>5087.107488</td>\n",
       "      <td>56186.515097</td>\n",
       "      <td>221.381418</td>\n",
       "      <td>3.766908</td>\n",
       "      <td>0.156467</td>\n",
       "      <td>28.212340</td>\n",
       "    </tr>\n",
       "    <tr>\n",
       "      <th>std</th>\n",
       "      <td>2817.482266</td>\n",
       "      <td>31980.375516</td>\n",
       "      <td>585.257531</td>\n",
       "      <td>2.221776</td>\n",
       "      <td>0.207429</td>\n",
       "      <td>241.864342</td>\n",
       "    </tr>\n",
       "    <tr>\n",
       "      <th>min</th>\n",
       "      <td>13.000000</td>\n",
       "      <td>1841.000000</td>\n",
       "      <td>0.444000</td>\n",
       "      <td>1.000000</td>\n",
       "      <td>0.000000</td>\n",
       "      <td>-3839.990400</td>\n",
       "    </tr>\n",
       "    <tr>\n",
       "      <th>25%</th>\n",
       "      <td>2655.750000</td>\n",
       "      <td>27978.750000</td>\n",
       "      <td>17.018000</td>\n",
       "      <td>2.000000</td>\n",
       "      <td>0.000000</td>\n",
       "      <td>1.763200</td>\n",
       "    </tr>\n",
       "    <tr>\n",
       "      <th>50%</th>\n",
       "      <td>5183.500000</td>\n",
       "      <td>60472.500000</td>\n",
       "      <td>53.810000</td>\n",
       "      <td>3.000000</td>\n",
       "      <td>0.200000</td>\n",
       "      <td>8.296800</td>\n",
       "    </tr>\n",
       "    <tr>\n",
       "      <th>75%</th>\n",
       "      <td>7498.250000</td>\n",
       "      <td>90032.000000</td>\n",
       "      <td>205.105700</td>\n",
       "      <td>5.000000</td>\n",
       "      <td>0.200000</td>\n",
       "      <td>28.315125</td>\n",
       "    </tr>\n",
       "    <tr>\n",
       "      <th>max</th>\n",
       "      <td>9994.000000</td>\n",
       "      <td>99301.000000</td>\n",
       "      <td>13999.960000</td>\n",
       "      <td>14.000000</td>\n",
       "      <td>0.800000</td>\n",
       "      <td>6719.980800</td>\n",
       "    </tr>\n",
       "  </tbody>\n",
       "</table>\n",
       "</div>"
      ],
      "text/plain": [
       "            Row ID   Postal Code         Sales     Quantity     Discount  \\\n",
       "count  3312.000000   3312.000000   3312.000000  3312.000000  3312.000000   \n",
       "mean   5087.107488  56186.515097    221.381418     3.766908     0.156467   \n",
       "std    2817.482266  31980.375516    585.257531     2.221776     0.207429   \n",
       "min      13.000000   1841.000000      0.444000     1.000000     0.000000   \n",
       "25%    2655.750000  27978.750000     17.018000     2.000000     0.000000   \n",
       "50%    5183.500000  60472.500000     53.810000     3.000000     0.200000   \n",
       "75%    7498.250000  90032.000000    205.105700     5.000000     0.200000   \n",
       "max    9994.000000  99301.000000  13999.960000    14.000000     0.800000   \n",
       "\n",
       "            Profit  \n",
       "count  3312.000000  \n",
       "mean     28.212340  \n",
       "std     241.864342  \n",
       "min   -3839.990400  \n",
       "25%       1.763200  \n",
       "50%       8.296800  \n",
       "75%      28.315125  \n",
       "max    6719.980800  "
      ]
     },
     "execution_count": 33,
     "metadata": {},
     "output_type": "execute_result"
    }
   ],
   "source": [
    "dataFrames.describe()"
   ]
  },
  {
   "cell_type": "code",
   "execution_count": 34,
   "id": "f3ea1469-dc8c-49e2-b43b-ab840f28ad1e",
   "metadata": {},
   "outputs": [
    {
     "data": {
      "text/plain": [
       "Ship Mode\n",
       "Standard Class    1897\n",
       "Second Class       657\n",
       "First Class        572\n",
       "Same Day           186\n",
       "Name: count, dtype: int64"
      ]
     },
     "execution_count": 34,
     "metadata": {},
     "output_type": "execute_result"
    }
   ],
   "source": [
    " dataFrames[\"Ship Mode\"].value_counts()"
   ]
  },
  {
   "cell_type": "code",
   "execution_count": null,
   "id": "5a2e3f89-c602-4aaa-88cd-c5e45edea282",
   "metadata": {},
   "outputs": [],
   "source": []
  },
  {
   "cell_type": "markdown",
   "id": "27626771-ef1d-47c5-9252-6e8539895afa",
   "metadata": {},
   "source": [
    "# Extracting from DataFrames"
   ]
  },
  {
   "cell_type": "code",
   "execution_count": 45,
   "id": "47389a2e-3e07-4a31-a601-4c70417be27d",
   "metadata": {},
   "outputs": [
    {
     "name": "stderr",
     "output_type": "stream",
     "text": [
      "C:\\Users\\pride 45\\AppData\\Local\\Temp\\ipykernel_5528\\1572426958.py:1: UserWarning: Boolean Series key will be reindexed to match DataFrame index.\n",
      "  result = dataFrames[dataFrames['Ship Mode'] == 'Standard Class'][dataFrames['Profit']>1000]\n"
     ]
    }
   ],
   "source": [
    "result = dataFrames[dataFrames['Ship Mode'] == 'Standard Class'][dataFrames['Profit']>1000]"
   ]
  },
  {
   "cell_type": "code",
   "execution_count": 46,
   "id": "1d932bb4-1a39-435a-98e6-46fa64bca8d6",
   "metadata": {},
   "outputs": [
    {
     "data": {
      "text/html": [
       "<div>\n",
       "<style scoped>\n",
       "    .dataframe tbody tr th:only-of-type {\n",
       "        vertical-align: middle;\n",
       "    }\n",
       "\n",
       "    .dataframe tbody tr th {\n",
       "        vertical-align: top;\n",
       "    }\n",
       "\n",
       "    .dataframe thead th {\n",
       "        text-align: right;\n",
       "    }\n",
       "</style>\n",
       "<table border=\"1\" class=\"dataframe\">\n",
       "  <thead>\n",
       "    <tr style=\"text-align: right;\">\n",
       "      <th></th>\n",
       "      <th>Order Date</th>\n",
       "      <th>Row ID</th>\n",
       "      <th>Order ID</th>\n",
       "      <th>Ship Mode</th>\n",
       "      <th>Customer ID</th>\n",
       "      <th>Segment</th>\n",
       "      <th>Country</th>\n",
       "      <th>City</th>\n",
       "      <th>State</th>\n",
       "      <th>Postal Code</th>\n",
       "      <th>Region</th>\n",
       "      <th>Product ID</th>\n",
       "      <th>Category</th>\n",
       "      <th>Sub-Category</th>\n",
       "      <th>Product Name</th>\n",
       "      <th>Sales</th>\n",
       "      <th>Quantity</th>\n",
       "      <th>Discount</th>\n",
       "      <th>Profit</th>\n",
       "    </tr>\n",
       "  </thead>\n",
       "  <tbody>\n",
       "    <tr>\n",
       "      <th>98</th>\n",
       "      <td>22-01-20</td>\n",
       "      <td>516</td>\n",
       "      <td>CA-2017-127432</td>\n",
       "      <td>Standard Class</td>\n",
       "      <td>AD-10180</td>\n",
       "      <td>Home Office</td>\n",
       "      <td>United States</td>\n",
       "      <td>Great Falls</td>\n",
       "      <td>Montana</td>\n",
       "      <td>59405</td>\n",
       "      <td>West</td>\n",
       "      <td>TEC-CO-10003236</td>\n",
       "      <td>Technology</td>\n",
       "      <td>Copiers</td>\n",
       "      <td>Canon Image Class D660 Copier</td>\n",
       "      <td>2999.950</td>\n",
       "      <td>5</td>\n",
       "      <td>0.0</td>\n",
       "      <td>1379.9770</td>\n",
       "    </tr>\n",
       "    <tr>\n",
       "      <th>535</th>\n",
       "      <td>08-04-20</td>\n",
       "      <td>2849</td>\n",
       "      <td>CA-2017-157854</td>\n",
       "      <td>Standard Class</td>\n",
       "      <td>DM-13345</td>\n",
       "      <td>Corporate</td>\n",
       "      <td>United States</td>\n",
       "      <td>Roswell</td>\n",
       "      <td>Georgia</td>\n",
       "      <td>30076</td>\n",
       "      <td>South</td>\n",
       "      <td>OFF-BI-10001359</td>\n",
       "      <td>Office Supplies</td>\n",
       "      <td>Binders</td>\n",
       "      <td>GBC DocuBind TL300 Electric Binding System</td>\n",
       "      <td>2690.970</td>\n",
       "      <td>3</td>\n",
       "      <td>0.0</td>\n",
       "      <td>1264.7559</td>\n",
       "    </tr>\n",
       "    <tr>\n",
       "      <th>760</th>\n",
       "      <td>08-05-20</td>\n",
       "      <td>3274</td>\n",
       "      <td>CA-2017-133865</td>\n",
       "      <td>Standard Class</td>\n",
       "      <td>PS-19045</td>\n",
       "      <td>Home Office</td>\n",
       "      <td>United States</td>\n",
       "      <td>Los Angeles</td>\n",
       "      <td>California</td>\n",
       "      <td>90032</td>\n",
       "      <td>West</td>\n",
       "      <td>TEC-CO-10001046</td>\n",
       "      <td>Technology</td>\n",
       "      <td>Copiers</td>\n",
       "      <td>Canon Imageclass D680 Copier / Fax</td>\n",
       "      <td>3359.952</td>\n",
       "      <td>6</td>\n",
       "      <td>0.2</td>\n",
       "      <td>1049.9850</td>\n",
       "    </tr>\n",
       "    <tr>\n",
       "      <th>1086</th>\n",
       "      <td>17-06-20</td>\n",
       "      <td>7915</td>\n",
       "      <td>CA-2017-165323</td>\n",
       "      <td>Standard Class</td>\n",
       "      <td>SR-20740</td>\n",
       "      <td>Home Office</td>\n",
       "      <td>United States</td>\n",
       "      <td>New York City</td>\n",
       "      <td>New York</td>\n",
       "      <td>10024</td>\n",
       "      <td>East</td>\n",
       "      <td>TEC-MA-10003673</td>\n",
       "      <td>Technology</td>\n",
       "      <td>Machines</td>\n",
       "      <td>Hewlett-Packard Desktjet 6988DT Refurbished Pr...</td>\n",
       "      <td>3404.500</td>\n",
       "      <td>5</td>\n",
       "      <td>0.0</td>\n",
       "      <td>1668.2050</td>\n",
       "    </tr>\n",
       "    <tr>\n",
       "      <th>1568</th>\n",
       "      <td>21-08-20</td>\n",
       "      <td>9271</td>\n",
       "      <td>US-2017-102183</td>\n",
       "      <td>Standard Class</td>\n",
       "      <td>PK-19075</td>\n",
       "      <td>Consumer</td>\n",
       "      <td>United States</td>\n",
       "      <td>New York City</td>\n",
       "      <td>New York</td>\n",
       "      <td>10035</td>\n",
       "      <td>East</td>\n",
       "      <td>OFF-BI-10001359</td>\n",
       "      <td>Office Supplies</td>\n",
       "      <td>Binders</td>\n",
       "      <td>GBC DocuBind TL300 Electric Binding System</td>\n",
       "      <td>4305.552</td>\n",
       "      <td>6</td>\n",
       "      <td>0.2</td>\n",
       "      <td>1453.1238</td>\n",
       "    </tr>\n",
       "  </tbody>\n",
       "</table>\n",
       "</div>"
      ],
      "text/plain": [
       "     Order Date  Row ID        Order ID       Ship Mode Customer ID  \\\n",
       "98     22-01-20     516  CA-2017-127432  Standard Class    AD-10180   \n",
       "535    08-04-20    2849  CA-2017-157854  Standard Class    DM-13345   \n",
       "760    08-05-20    3274  CA-2017-133865  Standard Class    PS-19045   \n",
       "1086   17-06-20    7915  CA-2017-165323  Standard Class    SR-20740   \n",
       "1568   21-08-20    9271  US-2017-102183  Standard Class    PK-19075   \n",
       "\n",
       "          Segment        Country           City       State  Postal Code  \\\n",
       "98    Home Office  United States    Great Falls     Montana        59405   \n",
       "535     Corporate  United States        Roswell     Georgia        30076   \n",
       "760   Home Office  United States    Los Angeles  California        90032   \n",
       "1086  Home Office  United States  New York City    New York        10024   \n",
       "1568     Consumer  United States  New York City    New York        10035   \n",
       "\n",
       "     Region       Product ID         Category Sub-Category  \\\n",
       "98     West  TEC-CO-10003236       Technology      Copiers   \n",
       "535   South  OFF-BI-10001359  Office Supplies      Binders   \n",
       "760    West  TEC-CO-10001046       Technology      Copiers   \n",
       "1086   East  TEC-MA-10003673       Technology     Machines   \n",
       "1568   East  OFF-BI-10001359  Office Supplies      Binders   \n",
       "\n",
       "                                           Product Name     Sales  Quantity  \\\n",
       "98                        Canon Image Class D660 Copier  2999.950         5   \n",
       "535          GBC DocuBind TL300 Electric Binding System  2690.970         3   \n",
       "760                  Canon Imageclass D680 Copier / Fax  3359.952         6   \n",
       "1086  Hewlett-Packard Desktjet 6988DT Refurbished Pr...  3404.500         5   \n",
       "1568         GBC DocuBind TL300 Electric Binding System  4305.552         6   \n",
       "\n",
       "      Discount     Profit  \n",
       "98         0.0  1379.9770  \n",
       "535        0.0  1264.7559  \n",
       "760        0.2  1049.9850  \n",
       "1086       0.0  1668.2050  \n",
       "1568       0.2  1453.1238  "
      ]
     },
     "execution_count": 46,
     "metadata": {},
     "output_type": "execute_result"
    }
   ],
   "source": [
    "result.head()"
   ]
  },
  {
   "cell_type": "code",
   "execution_count": 48,
   "id": "cc4eb496-0e71-4b05-a8aa-acdb65f969e2",
   "metadata": {},
   "outputs": [
    {
     "data": {
      "text/plain": [
       "Ship Mode\n",
       "Standard Class    8\n",
       "Name: count, dtype: int64"
      ]
     },
     "execution_count": 48,
     "metadata": {},
     "output_type": "execute_result"
    }
   ],
   "source": [
    "result[\"Ship Mode\"].value_counts()"
   ]
  },
  {
   "cell_type": "code",
   "execution_count": 49,
   "id": "ec7f5412-3e97-4ea1-80e1-e7a9b772db10",
   "metadata": {},
   "outputs": [
    {
     "data": {
      "text/html": [
       "<div>\n",
       "<style scoped>\n",
       "    .dataframe tbody tr th:only-of-type {\n",
       "        vertical-align: middle;\n",
       "    }\n",
       "\n",
       "    .dataframe tbody tr th {\n",
       "        vertical-align: top;\n",
       "    }\n",
       "\n",
       "    .dataframe thead th {\n",
       "        text-align: right;\n",
       "    }\n",
       "</style>\n",
       "<table border=\"1\" class=\"dataframe\">\n",
       "  <thead>\n",
       "    <tr style=\"text-align: right;\">\n",
       "      <th></th>\n",
       "      <th>Row ID</th>\n",
       "      <th>Postal Code</th>\n",
       "      <th>Sales</th>\n",
       "      <th>Quantity</th>\n",
       "      <th>Discount</th>\n",
       "      <th>Profit</th>\n",
       "    </tr>\n",
       "  </thead>\n",
       "  <tbody>\n",
       "    <tr>\n",
       "      <th>count</th>\n",
       "      <td>8.000000</td>\n",
       "      <td>8.000000</td>\n",
       "      <td>8.00000</td>\n",
       "      <td>8.000000</td>\n",
       "      <td>8.00000</td>\n",
       "      <td>8.000000</td>\n",
       "    </tr>\n",
       "    <tr>\n",
       "      <th>mean</th>\n",
       "      <td>5402.000000</td>\n",
       "      <td>40642.625000</td>\n",
       "      <td>4693.10175</td>\n",
       "      <td>4.625000</td>\n",
       "      <td>0.07500</td>\n",
       "      <td>1889.313362</td>\n",
       "    </tr>\n",
       "    <tr>\n",
       "      <th>std</th>\n",
       "      <td>3173.610157</td>\n",
       "      <td>36247.464869</td>\n",
       "      <td>2523.96135</td>\n",
       "      <td>1.187735</td>\n",
       "      <td>0.10351</td>\n",
       "      <td>1298.838225</td>\n",
       "    </tr>\n",
       "    <tr>\n",
       "      <th>min</th>\n",
       "      <td>516.000000</td>\n",
       "      <td>10024.000000</td>\n",
       "      <td>2690.97000</td>\n",
       "      <td>3.000000</td>\n",
       "      <td>0.00000</td>\n",
       "      <td>1049.985000</td>\n",
       "    </tr>\n",
       "    <tr>\n",
       "      <th>25%</th>\n",
       "      <td>3167.750000</td>\n",
       "      <td>10035.000000</td>\n",
       "      <td>3269.95150</td>\n",
       "      <td>3.750000</td>\n",
       "      <td>0.00000</td>\n",
       "      <td>1330.181175</td>\n",
       "    </tr>\n",
       "    <tr>\n",
       "      <th>50%</th>\n",
       "      <td>5266.000000</td>\n",
       "      <td>24893.500000</td>\n",
       "      <td>3855.02600</td>\n",
       "      <td>5.000000</td>\n",
       "      <td>0.00000</td>\n",
       "      <td>1416.550400</td>\n",
       "    </tr>\n",
       "    <tr>\n",
       "      <th>75%</th>\n",
       "      <td>8151.000000</td>\n",
       "      <td>67061.750000</td>\n",
       "      <td>5112.96000</td>\n",
       "      <td>5.250000</td>\n",
       "      <td>0.20000</td>\n",
       "      <td>1727.775000</td>\n",
       "    </tr>\n",
       "    <tr>\n",
       "      <th>max</th>\n",
       "      <td>9271.000000</td>\n",
       "      <td>95823.000000</td>\n",
       "      <td>10499.97000</td>\n",
       "      <td>6.000000</td>\n",
       "      <td>0.20000</td>\n",
       "      <td>5039.985600</td>\n",
       "    </tr>\n",
       "  </tbody>\n",
       "</table>\n",
       "</div>"
      ],
      "text/plain": [
       "            Row ID   Postal Code        Sales  Quantity  Discount       Profit\n",
       "count     8.000000      8.000000      8.00000  8.000000   8.00000     8.000000\n",
       "mean   5402.000000  40642.625000   4693.10175  4.625000   0.07500  1889.313362\n",
       "std    3173.610157  36247.464869   2523.96135  1.187735   0.10351  1298.838225\n",
       "min     516.000000  10024.000000   2690.97000  3.000000   0.00000  1049.985000\n",
       "25%    3167.750000  10035.000000   3269.95150  3.750000   0.00000  1330.181175\n",
       "50%    5266.000000  24893.500000   3855.02600  5.000000   0.00000  1416.550400\n",
       "75%    8151.000000  67061.750000   5112.96000  5.250000   0.20000  1727.775000\n",
       "max    9271.000000  95823.000000  10499.97000  6.000000   0.20000  5039.985600"
      ]
     },
     "execution_count": 49,
     "metadata": {},
     "output_type": "execute_result"
    }
   ],
   "source": [
    "result.describe()"
   ]
  }
 ],
 "metadata": {
  "kernelspec": {
   "display_name": "Python 3 (ipykernel)",
   "language": "python",
   "name": "python3"
  },
  "language_info": {
   "codemirror_mode": {
    "name": "ipython",
    "version": 3
   },
   "file_extension": ".py",
   "mimetype": "text/x-python",
   "name": "python",
   "nbconvert_exporter": "python",
   "pygments_lexer": "ipython3",
   "version": "3.12.1"
  }
 },
 "nbformat": 4,
 "nbformat_minor": 5
}
