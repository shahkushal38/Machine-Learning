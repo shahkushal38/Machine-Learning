{
 "cells": [
  {
   "cell_type": "code",
   "execution_count": 1,
   "id": "ec77c806",
   "metadata": {},
   "outputs": [
    {
     "name": "stdout",
     "output_type": "stream",
     "text": [
      "Hello World\n"
     ]
    }
   ],
   "source": [
    "print(\"Hello World\")"
   ]
  },
  {
   "cell_type": "markdown",
   "id": "3283cb46",
   "metadata": {},
   "source": [
    "# Variables and Data Types"
   ]
  },
  {
   "cell_type": "code",
   "execution_count": 3,
   "id": "375a14d1",
   "metadata": {},
   "outputs": [
    {
     "data": {
      "text/plain": [
       "2"
      ]
     },
     "execution_count": 3,
     "metadata": {},
     "output_type": "execute_result"
    }
   ],
   "source": [
    "1+1"
   ]
  },
  {
   "cell_type": "code",
   "execution_count": 4,
   "id": "ebe3e80b",
   "metadata": {},
   "outputs": [
    {
     "data": {
      "text/plain": [
       "5.0"
      ]
     },
     "execution_count": 4,
     "metadata": {},
     "output_type": "execute_result"
    }
   ],
   "source": [
    "10/2"
   ]
  },
  {
   "cell_type": "code",
   "execution_count": 5,
   "id": "2da7e1de",
   "metadata": {},
   "outputs": [
    {
     "data": {
      "text/plain": [
       "0"
      ]
     },
     "execution_count": 5,
     "metadata": {},
     "output_type": "execute_result"
    }
   ],
   "source": [
    "10%2"
   ]
  },
  {
   "cell_type": "code",
   "execution_count": 7,
   "id": "53c48bc8",
   "metadata": {},
   "outputs": [
    {
     "data": {
      "text/plain": [
       "100"
      ]
     },
     "execution_count": 7,
     "metadata": {},
     "output_type": "execute_result"
    }
   ],
   "source": [
    "10**2"
   ]
  },
  {
   "cell_type": "code",
   "execution_count": 8,
   "id": "b29c07cf",
   "metadata": {},
   "outputs": [
    {
     "name": "stdout",
     "output_type": "stream",
     "text": [
      "<class 'int'>\n",
      "<class 'str'>\n"
     ]
    }
   ],
   "source": [
    "#check data type\n",
    "\n",
    "print(type(1))\n",
    "print(type(\"Hello\"))"
   ]
  },
  {
   "cell_type": "code",
   "execution_count": 9,
   "id": "197abc1a",
   "metadata": {},
   "outputs": [],
   "source": [
    "first_name=\"Kushal\"\n",
    "last_name = \"Shah\""
   ]
  },
  {
   "cell_type": "code",
   "execution_count": 10,
   "id": "9ecd4eb6",
   "metadata": {},
   "outputs": [
    {
     "name": "stdout",
     "output_type": "stream",
     "text": [
      "My First name is Kushal and last name is Shah\n",
      "My First name is Kushal and last name is Shah\n"
     ]
    }
   ],
   "source": [
    "print(\"My First name is {} and last name is {}\".format(first_name, last_name))\n",
    "print(\"My First name is {first} and last name is {second}\".format(first=first_name, second=last_name))"
   ]
  },
  {
   "cell_type": "code",
   "execution_count": 11,
   "id": "545d7f68",
   "metadata": {},
   "outputs": [
    {
     "data": {
      "text/plain": [
       "6"
      ]
     },
     "execution_count": 11,
     "metadata": {},
     "output_type": "execute_result"
    }
   ],
   "source": [
    "len(\"Kushal\")"
   ]
  },
  {
   "cell_type": "markdown",
   "id": "47ab0e42",
   "metadata": {},
   "source": [
    "# Python Data Structures and Booleans"
   ]
  },
  {
   "cell_type": "code",
   "execution_count": 1,
   "id": "df909cd0",
   "metadata": {},
   "outputs": [
    {
     "data": {
      "text/plain": [
       "bool"
      ]
     },
     "execution_count": 1,
     "metadata": {},
     "output_type": "execute_result"
    }
   ],
   "source": [
    "type(True)"
   ]
  },
  {
   "cell_type": "code",
   "execution_count": 4,
   "id": "8498636e",
   "metadata": {},
   "outputs": [
    {
     "name": "stdout",
     "output_type": "stream",
     "text": [
      "kushal\n"
     ]
    }
   ],
   "source": [
    "#string in-built functions\n",
    "my_str=\"kushal\"\n",
    "print(my_str)"
   ]
  },
  {
   "cell_type": "code",
   "execution_count": 6,
   "id": "f35aabba",
   "metadata": {},
   "outputs": [
    {
     "name": "stdout",
     "output_type": "stream",
     "text": [
      "Kushal\n",
      "kushal\n",
      "True\n",
      "False\n",
      "True\n",
      "False\n",
      "True\n"
     ]
    }
   ],
   "source": [
    "print(my_str.capitalize()) #converts to capital Letters the first char\n",
    "print(my_str.lower()) #returns lower char string\n",
    "print(my_str.isalnum())\n",
    "print(my_str.isdigit())\n",
    "print(my_str.endswith(\"l\"))\n",
    "print(my_str.endswith(\"k\"))\n",
    "print(my_str.startswith(\"k\"))"
   ]
  },
  {
   "cell_type": "code",
   "execution_count": 7,
   "id": "659c1889",
   "metadata": {},
   "outputs": [
    {
     "data": {
      "text/plain": [
       "True"
      ]
     },
     "execution_count": 7,
     "metadata": {},
     "output_type": "execute_result"
    }
   ],
   "source": [
    "True and True"
   ]
  },
  {
   "cell_type": "code",
   "execution_count": 8,
   "id": "299ccc36",
   "metadata": {},
   "outputs": [
    {
     "data": {
      "text/plain": [
       "False"
      ]
     },
     "execution_count": 8,
     "metadata": {},
     "output_type": "execute_result"
    }
   ],
   "source": [
    "True and False"
   ]
  },
  {
   "cell_type": "code",
   "execution_count": 10,
   "id": "13e9d746",
   "metadata": {},
   "outputs": [
    {
     "data": {
      "text/plain": [
       "False"
      ]
     },
     "execution_count": 10,
     "metadata": {},
     "output_type": "execute_result"
    }
   ],
   "source": [
    "not True"
   ]
  },
  {
   "cell_type": "markdown",
   "id": "0da665a5",
   "metadata": {},
   "source": [
    "# Lists in Python\n",
    "\n",
    "List is a data structure in python that is mutable, changeable, ordered sequence of elements. Each value in list is called item."
   ]
  },
  {
   "cell_type": "code",
   "execution_count": 11,
   "id": "0a3fde14",
   "metadata": {},
   "outputs": [
    {
     "data": {
      "text/plain": [
       "list"
      ]
     },
     "execution_count": 11,
     "metadata": {},
     "output_type": "execute_result"
    }
   ],
   "source": [
    "type([])"
   ]
  },
  {
   "cell_type": "code",
   "execution_count": 13,
   "id": "ac783406",
   "metadata": {},
   "outputs": [
    {
     "data": {
      "text/plain": [
       "list"
      ]
     },
     "execution_count": 13,
     "metadata": {},
     "output_type": "execute_result"
    }
   ],
   "source": [
    "lst = list()\n",
    "type(lst)"
   ]
  },
  {
   "cell_type": "code",
   "execution_count": 14,
   "id": "7c763960",
   "metadata": {},
   "outputs": [],
   "source": [
    "lst = [\"apple\", \"orange\"]"
   ]
  },
  {
   "cell_type": "code",
   "execution_count": 15,
   "id": "48f59dd4",
   "metadata": {},
   "outputs": [],
   "source": [
    "lst.append(\"strawberry\")"
   ]
  },
  {
   "cell_type": "code",
   "execution_count": 16,
   "id": "ad01cbfa",
   "metadata": {},
   "outputs": [
    {
     "name": "stdout",
     "output_type": "stream",
     "text": [
      "['apple', 'orange', 'strawberry']\n"
     ]
    }
   ],
   "source": [
    "print(lst)"
   ]
  },
  {
   "cell_type": "code",
   "execution_count": 18,
   "id": "98f4c566",
   "metadata": {},
   "outputs": [
    {
     "name": "stdout",
     "output_type": "stream",
     "text": [
      "['apple', 'watermelon', 'watermelon', 'orange', 'strawberry']\n",
      "watermelon\n"
     ]
    }
   ],
   "source": [
    "lst.insert(1, \"watermelon\")\n",
    "print(lst)\n",
    "print(lst[2])"
   ]
  },
  {
   "cell_type": "code",
   "execution_count": 19,
   "id": "c6ad72db",
   "metadata": {},
   "outputs": [
    {
     "data": {
      "text/plain": [
       "['watermelon', 'watermelon', 'orange', 'strawberry']"
      ]
     },
     "execution_count": 19,
     "metadata": {},
     "output_type": "execute_result"
    }
   ],
   "source": [
    "lst[1:]"
   ]
  },
  {
   "cell_type": "code",
   "execution_count": 20,
   "id": "8a3597d4",
   "metadata": {},
   "outputs": [],
   "source": [
    "lst.extend([8, 9,10])"
   ]
  },
  {
   "cell_type": "code",
   "execution_count": 21,
   "id": "612916b7",
   "metadata": {},
   "outputs": [
    {
     "name": "stdout",
     "output_type": "stream",
     "text": [
      "['apple', 'watermelon', 'watermelon', 'orange', 'strawberry', 8, 9, 10]\n"
     ]
    }
   ],
   "source": [
    "print(lst)"
   ]
  },
  {
   "cell_type": "code",
   "execution_count": 22,
   "id": "19fa68e5",
   "metadata": {},
   "outputs": [
    {
     "data": {
      "text/plain": [
       "10"
      ]
     },
     "execution_count": 22,
     "metadata": {},
     "output_type": "execute_result"
    }
   ],
   "source": [
    "lst.pop() #removes top element like stack"
   ]
  },
  {
   "cell_type": "code",
   "execution_count": 23,
   "id": "170329ce",
   "metadata": {},
   "outputs": [
    {
     "data": {
      "text/plain": [
       "2"
      ]
     },
     "execution_count": 23,
     "metadata": {},
     "output_type": "execute_result"
    }
   ],
   "source": [
    "lst.count(\"watermelon\") #count of a particular element present"
   ]
  },
  {
   "cell_type": "markdown",
   "id": "42a8d1a0",
   "metadata": {},
   "source": [
    "# Sets in Python\n",
    "\n",
    "Set is an unordered collection datatypes, which is iterable, unchangeable, unindexable and doesnot have duplicate values. Set is based on data structure hash table "
   ]
  },
  {
   "cell_type": "code",
   "execution_count": 1,
   "id": "2eb61ac7",
   "metadata": {},
   "outputs": [
    {
     "name": "stdout",
     "output_type": "stream",
     "text": [
      "<class 'set'>\n"
     ]
    }
   ],
   "source": [
    "set_var = set()\n",
    "print(type(set_var))"
   ]
  },
  {
   "cell_type": "code",
   "execution_count": 11,
   "id": "bbc10618",
   "metadata": {},
   "outputs": [
    {
     "name": "stdout",
     "output_type": "stream",
     "text": [
      "{1, 2, 3, 4}\n"
     ]
    }
   ],
   "source": [
    "set_var = {1,2,2,3,4}\n",
    "print(set_var)"
   ]
  },
  {
   "cell_type": "code",
   "execution_count": 12,
   "id": "11f8485b",
   "metadata": {},
   "outputs": [
    {
     "name": "stdout",
     "output_type": "stream",
     "text": [
      "{1, 2, 3, 4, 5}\n",
      "{5}\n"
     ]
    }
   ],
   "source": [
    "# in built functions of set\n",
    "\n",
    "set_var.add(5) #add element in set\n",
    "print(set_var)\n",
    "\n",
    "set2={ 5, 10,9,11,12}\n",
    "set_var.intersection_update(set2)\n",
    "print(set_var)\n",
    "\n",
    "#perform functions of union, interesection, difference"
   ]
  },
  {
   "cell_type": "code",
   "execution_count": 14,
   "id": "a557dbf8",
   "metadata": {},
   "outputs": [
    {
     "name": "stdout",
     "output_type": "stream",
     "text": [
      "1\n",
      "2\n",
      "3\n",
      "4\n",
      "5\n"
     ]
    }
   ],
   "source": [
    "set_var = {1,2,3,4,5}\n",
    "for x in set_var:\n",
    "  print(x)"
   ]
  },
  {
   "cell_type": "markdown",
   "id": "6ae79c8b",
   "metadata": {},
   "source": [
    "# Dictionary in Python \n",
    "Dictionary in Python is a datastructure with Key-value pairs"
   ]
  },
  {
   "cell_type": "code",
   "execution_count": null,
   "id": "509ec642",
   "metadata": {},
   "outputs": [],
   "source": []
  },
  {
   "cell_type": "code",
   "execution_count": null,
   "id": "f2c63595",
   "metadata": {},
   "outputs": [],
   "source": []
  }
 ],
 "metadata": {
  "kernelspec": {
   "display_name": "Python 3 (ipykernel)",
   "language": "python",
   "name": "python3"
  },
  "language_info": {
   "codemirror_mode": {
    "name": "ipython",
    "version": 3
   },
   "file_extension": ".py",
   "mimetype": "text/x-python",
   "name": "python",
   "nbconvert_exporter": "python",
   "pygments_lexer": "ipython3",
   "version": "3.9.13"
  }
 },
 "nbformat": 4,
 "nbformat_minor": 5
}
